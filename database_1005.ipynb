{
 "cells": [
  {
   "cell_type": "code",
   "execution_count": 1,
   "metadata": {},
   "outputs": [],
   "source": [
    "import sqlite3"
   ]
  },
  {
   "cell_type": "code",
   "execution_count": 11,
   "metadata": {},
   "outputs": [
    {
     "data": {
      "text/plain": [
       "<sqlite3.Connection at 0x214f0e208a0>"
      ]
     },
     "execution_count": 11,
     "metadata": {},
     "output_type": "execute_result"
    }
   ],
   "source": [
    "conn = sqlite3.connect('student.db')\n",
    "conn"
   ]
  },
  {
   "cell_type": "code",
   "execution_count": 14,
   "metadata": {},
   "outputs": [],
   "source": [
    "sql = \"\"\"\n",
    "CREATE TABLE student\n",
    " (\n",
    " name text,\n",
    " no integer,\n",
    " addr text,\n",
    " gender text\n",
    " )\n",
    "\"\"\"\n",
    "c = conn.cursor()\n",
    "c.execute(\"DROP TABLE IF EXISTS student\")\n",
    "c.execute(sql)\n",
    "c.close()"
   ]
  },
  {
   "cell_type": "code",
   "execution_count": 18,
   "metadata": {
    "scrolled": true
   },
   "outputs": [],
   "source": [
    "sql = \"\"\"\n",
    "INSERT INTO student VALUES\n",
    " ('학생1', 1, \"서울 강남구 일원동\", 'male')\n",
    "\"\"\"\n",
    "c = conn.cursor() # 객체 생성\n",
    "c.execute(sql)\n",
    "c.close()\n",
    "conn.commit()\n"
   ]
  },
  {
   "cell_type": "code",
   "execution_count": 19,
   "metadata": {},
   "outputs": [
    {
     "name": "stdout",
     "output_type": "stream",
     "text": [
      "('학생1', 1, '서울 강남구 일원동', 'male')\n"
     ]
    }
   ],
   "source": [
    "sql = 'select * from student'\n",
    "c = conn.cursor()\n",
    "c.execute(sql)\n",
    "# 하나의 데이터\n",
    "print(c.fetchone())"
   ]
  },
  {
   "cell_type": "code",
   "execution_count": 25,
   "metadata": {},
   "outputs": [],
   "source": [
    "sql = \"\"\"\n",
    "INSERT INTO student VALUES\n",
    " (?, ?, ?, ?)\n",
    "\"\"\"\n",
    "c = conn.cursor() # 객체 생성\n",
    "c.execute(sql,(('학생2', 2, \"부산\", 'female')))\n",
    "\n",
    "data = [\n",
    "    ('학생3', 3, \"대구\", 'female'),\n",
    "    ('학생4', 4, \"대전\", 'female'),\n",
    "    ('학생5', 5, \"울산\", 'male')\n",
    "    \n",
    "]\n",
    "\n",
    "c.executemany(sql, data)\n",
    "c.close()\n",
    "conn.commit()\n"
   ]
  },
  {
   "cell_type": "code",
   "execution_count": 33,
   "metadata": {},
   "outputs": [
    {
     "data": {
      "text/plain": [
       "<sqlite3.Connection at 0x214f101f210>"
      ]
     },
     "execution_count": 33,
     "metadata": {},
     "output_type": "execute_result"
    }
   ],
   "source": [
    "conn = sqlite3.connect('student1.db')\n",
    "conn\n"
   ]
  },
  {
   "cell_type": "code",
   "execution_count": 34,
   "metadata": {},
   "outputs": [],
   "source": [
    "sql = \"\"\"\n",
    " CREATE TABLE student1\n",
    " ( \n",
    " name text,\n",
    " korean integer,\n",
    " math integer,\n",
    " english integer\n",
    " )\n",
    "\"\"\"\n",
    "\n",
    "c = conn.cursor()\n",
    "c.execute(\"DROP TABLE IF EXISTS student1\")\n",
    "c.execute(sql)\n",
    "c.close()\n"
   ]
  },
  {
   "cell_type": "code",
   "execution_count": 37,
   "metadata": {},
   "outputs": [],
   "source": [
    "sql = \"\"\"\n",
    "INSERT INTO student1 VALUES\n",
    " ('토토', 90, 100, 85)\n",
    "\"\"\"\n",
    "c = conn.cursor() # 객체 생성\n",
    "c.execute(sql)\n",
    "c.close()\n",
    "conn.commit()\n"
   ]
  },
  {
   "cell_type": "code",
   "execution_count": 38,
   "metadata": {},
   "outputs": [
    {
     "name": "stdout",
     "output_type": "stream",
     "text": [
      "('토토', 90, 100, 85)\n"
     ]
    }
   ],
   "source": [
    "sql = 'select * from student1'\n",
    "c = conn.cursor()\n",
    "c.execute(sql)\n",
    "# 하나의 데이터\n",
    "print(c.fetchone())"
   ]
  },
  {
   "cell_type": "code",
   "execution_count": null,
   "metadata": {},
   "outputs": [],
   "source": []
  }
 ],
 "metadata": {
  "kernelspec": {
   "display_name": "Python 3",
   "language": "python",
   "name": "python3"
  },
  "language_info": {
   "codemirror_mode": {
    "name": "ipython",
    "version": 3
   },
   "file_extension": ".py",
   "mimetype": "text/x-python",
   "name": "python",
   "nbconvert_exporter": "python",
   "pygments_lexer": "ipython3",
   "version": "3.8.3"
  }
 },
 "nbformat": 4,
 "nbformat_minor": 4
}
